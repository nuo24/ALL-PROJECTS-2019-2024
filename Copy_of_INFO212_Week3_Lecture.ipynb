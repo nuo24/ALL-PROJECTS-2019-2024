{
  "nbformat": 4,
  "nbformat_minor": 0,
  "metadata": {
    "kernelspec": {
      "display_name": "Python 3",
      "language": "python",
      "name": "python3"
    },
    "language_info": {
      "codemirror_mode": {
        "name": "ipython",
        "version": 3
      },
      "file_extension": ".py",
      "mimetype": "text/x-python",
      "name": "python",
      "nbconvert_exporter": "python",
      "pygments_lexer": "ipython3",
      "version": "3.7.6"
    },
    "colab": {
      "provenance": [],
      "include_colab_link": true
    }
  },
  "cells": [
    {
      "cell_type": "markdown",
      "metadata": {
        "id": "view-in-github",
        "colab_type": "text"
      },
      "source": [
        "<a href=\"https://colab.research.google.com/github/nuo24/web_crawler/blob/main/Copy_of_INFO212_Week3_Lecture.ipynb\" target=\"_parent\"><img src=\"https://colab.research.google.com/assets/colab-badge.svg\" alt=\"Open In Colab\"/></a>"
      ]
    },
    {
      "cell_type": "markdown",
      "metadata": {
        "id": "5vtOt0m3UXdz"
      },
      "source": [
        "# INFO 212: Data Science Programming 1\n",
        "___\n",
        "\n",
        "### Week 3: Numpy: Arrays and Vectorized Computation\n",
        "___\n",
        "\n",
        "### Mon., Wed., Friday, April 12, 14, 16, 2021\n",
        "---\n",
        "\n",
        "**Question:**\n",
        "- What efficient capabilities does Python provide for data manipulation and scientific computing?\n",
        "\n",
        "**Objectives:**\n",
        "- Apply fast vectorized array operations for data munging and cleaning, subsetting and filtering, transformation, and any other kinds of computations\n",
        "- Compute descriptive statistics and aggregating/summarizing data using Numpy's methods\n",
        "- Merge and join together heterogeneous datasets\n",
        "- Express conditional logic as array expressions instead of loops with if-elif-else branches\n",
        "- Group and aggregate numpy data.\n"
      ]
    },
    {
      "cell_type": "markdown",
      "metadata": {
        "id": "vhgd5qFoUXd7"
      },
      "source": [
        "## Motivation Scenario\n",
        "#### Imagine you work in a health services center. The Center recently started to monitor the daily body temperatures of their patients. The temperature data is stored as a spreadsheet/tabular format/matrix/2-D array:\n",
        "- each row records a patient's temperatures\n",
        "- each column corresponds to a day\n",
        "\n",
        "#### You want to quickly answer the following questions using Python:\n",
        "- daily mean\n",
        "- patient mean\n",
        "- daily max/min\n",
        "- patient max/min\n"
      ]
    },
    {
      "cell_type": "code",
      "metadata": {
        "id": "hUDNjG-aUXd8"
      },
      "source": [
        "import pandas as pd\n",
        "import numpy as np\n",
        "import matplotlib.pyplot as plt\n",
        "%matplotlib inline"
      ],
      "execution_count": null,
      "outputs": []
    },
    {
      "cell_type": "markdown",
      "metadata": {
        "id": "EuK4yffwUXd8"
      },
      "source": [
        "Import the following libraries for each data analysis task.\n",
        "- pandas as pd\n",
        "- numpy as np\n",
        "- matplotlib.pylot as plt\n",
        "\n",
        "Make the matplotlib inline for the figures to show up in the notebook"
      ]
    },
    {
      "cell_type": "markdown",
      "metadata": {
        "id": "CtoSxx1lUXd9"
      },
      "source": [
        "The following statements to set up some preferences."
      ]
    },
    {
      "cell_type": "code",
      "metadata": {
        "collapsed": true,
        "jupyter": {
          "outputs_hidden": true
        },
        "id": "wyEil2HAUXd9"
      },
      "source": [
        "np.random.seed(12345)\n",
        "plt.rc('figure', figsize=(10, 6))\n",
        "np.set_printoptions(precision=4, suppress=True)"
      ],
      "execution_count": null,
      "outputs": []
    },
    {
      "cell_type": "markdown",
      "metadata": {
        "id": "4Mj1lV7EUXd9"
      },
      "source": [
        "NumPy, short for Numerical Python, is one of the most important foundational packages\n",
        "for numerical computing in Python. Most computational packages providing\n",
        "scientific functionality use NumPy’s array objects as the lingua franca for data\n",
        "exchange.\n",
        "Here are some of the things you’ll find in NumPy:\n",
        "* ndarray, an efficient multidimensional array providing fast array-oriented arithmetic operations and flexible broadcasting capabilities.\n",
        "* Mathematical functions for fast operations on entire arrays of data without having to write loops.\n",
        "* Tools for reading/writing array data to disk and working with memory-mapped files.\n",
        "* Linear algebra, random number generation, and Fourier transform capabilities.\n",
        "* A C API for connecting NumPy with libraries written in C, C++, or FORTRAN."
      ]
    },
    {
      "cell_type": "markdown",
      "metadata": {
        "id": "Hr8WCMvFUXd-"
      },
      "source": [
        "Efficiency of Vectorizied numpy computation"
      ]
    },
    {
      "cell_type": "code",
      "metadata": {
        "id": "h4f-tdUrUXd-"
      },
      "source": [
        "my_arr = np.arange(1000000)\n",
        "my_list = list(range(1000000))"
      ],
      "execution_count": null,
      "outputs": []
    },
    {
      "cell_type": "markdown",
      "metadata": {
        "id": "Sixytg9MUXd_"
      },
      "source": [
        "```\n",
        "%time for _ in range(10): my_arr2 = my_arr * 2\n",
        "%time for _ in range(10): my_list2 = [x * 2 for x in my_list]\n",
        "```"
      ]
    },
    {
      "cell_type": "code",
      "metadata": {
        "id": "tGrIKmvfUXd_"
      },
      "source": [
        "%time for _ in range(10): my_arr2 = my_arr * 2\n",
        "%time for _ in range(10): my_list2 = [x * 2 for x in my_list]"
      ],
      "execution_count": null,
      "outputs": []
    },
    {
      "cell_type": "code",
      "metadata": {
        "id": "iiz-fltKUXeA"
      },
      "source": [
        "0.0909/2.16"
      ],
      "execution_count": null,
      "outputs": []
    },
    {
      "cell_type": "markdown",
      "metadata": {
        "id": "8P4xKxxXUXeA"
      },
      "source": [
        "## Numpy narray Computation"
      ]
    },
    {
      "cell_type": "markdown",
      "metadata": {
        "id": "nVb2BqQYUXeB"
      },
      "source": [
        "How to load data from disk to numpy arrays?\n",
        "\n",
        "```np.loadtxt()```"
      ]
    },
    {
      "cell_type": "code",
      "metadata": {
        "id": "jDemW-IFvMY3"
      },
      "source": [],
      "execution_count": null,
      "outputs": []
    },
    {
      "cell_type": "markdown",
      "metadata": {
        "id": "DDw9jK-vUXeB"
      },
      "source": [
        "```\n",
        "data = np.loadtxt('datasets/inflammation-data/inflammation-01.csv', delimiter = \",\")\n",
        "```"
      ]
    },
    {
      "cell_type": "code",
      "metadata": {
        "colab": {
          "base_uri": "https://localhost:8080/",
          "height": 307
        },
        "id": "j-8U90LcvPgz",
        "outputId": "2de95050-3be7-408c-9c4c-3c3c352ba507"
      },
      "source": [
        "data = np.loadtxt('datasets/inflammation-data/inflammation-01.csv', delimiter = \",\")"
      ],
      "execution_count": null,
      "outputs": [
        {
          "output_type": "error",
          "ename": "OSError",
          "evalue": "ignored",
          "traceback": [
            "\u001b[0;31m---------------------------------------------------------------------------\u001b[0m",
            "\u001b[0;31mOSError\u001b[0m                                   Traceback (most recent call last)",
            "\u001b[0;32m<ipython-input-4-f77255a46146>\u001b[0m in \u001b[0;36m<module>\u001b[0;34m()\u001b[0m\n\u001b[0;32m----> 1\u001b[0;31m \u001b[0mdata\u001b[0m \u001b[0;34m=\u001b[0m \u001b[0mnp\u001b[0m\u001b[0;34m.\u001b[0m\u001b[0mloadtxt\u001b[0m\u001b[0;34m(\u001b[0m\u001b[0;34m'datasets/inflammation-data/inflammation-01.csv'\u001b[0m\u001b[0;34m,\u001b[0m \u001b[0mdelimiter\u001b[0m \u001b[0;34m=\u001b[0m \u001b[0;34m\",\"\u001b[0m\u001b[0;34m)\u001b[0m\u001b[0;34m\u001b[0m\u001b[0;34m\u001b[0m\u001b[0m\n\u001b[0m",
            "\u001b[0;32m/usr/local/lib/python3.7/dist-packages/numpy/lib/npyio.py\u001b[0m in \u001b[0;36mloadtxt\u001b[0;34m(fname, dtype, comments, delimiter, converters, skiprows, usecols, unpack, ndmin, encoding, max_rows)\u001b[0m\n\u001b[1;32m    959\u001b[0m             \u001b[0mfname\u001b[0m \u001b[0;34m=\u001b[0m \u001b[0mos_fspath\u001b[0m\u001b[0;34m(\u001b[0m\u001b[0mfname\u001b[0m\u001b[0;34m)\u001b[0m\u001b[0;34m\u001b[0m\u001b[0;34m\u001b[0m\u001b[0m\n\u001b[1;32m    960\u001b[0m         \u001b[0;32mif\u001b[0m \u001b[0m_is_string_like\u001b[0m\u001b[0;34m(\u001b[0m\u001b[0mfname\u001b[0m\u001b[0;34m)\u001b[0m\u001b[0;34m:\u001b[0m\u001b[0;34m\u001b[0m\u001b[0;34m\u001b[0m\u001b[0m\n\u001b[0;32m--> 961\u001b[0;31m             \u001b[0mfh\u001b[0m \u001b[0;34m=\u001b[0m \u001b[0mnp\u001b[0m\u001b[0;34m.\u001b[0m\u001b[0mlib\u001b[0m\u001b[0;34m.\u001b[0m\u001b[0m_datasource\u001b[0m\u001b[0;34m.\u001b[0m\u001b[0mopen\u001b[0m\u001b[0;34m(\u001b[0m\u001b[0mfname\u001b[0m\u001b[0;34m,\u001b[0m \u001b[0;34m'rt'\u001b[0m\u001b[0;34m,\u001b[0m \u001b[0mencoding\u001b[0m\u001b[0;34m=\u001b[0m\u001b[0mencoding\u001b[0m\u001b[0;34m)\u001b[0m\u001b[0;34m\u001b[0m\u001b[0;34m\u001b[0m\u001b[0m\n\u001b[0m\u001b[1;32m    962\u001b[0m             \u001b[0mfencoding\u001b[0m \u001b[0;34m=\u001b[0m \u001b[0mgetattr\u001b[0m\u001b[0;34m(\u001b[0m\u001b[0mfh\u001b[0m\u001b[0;34m,\u001b[0m \u001b[0;34m'encoding'\u001b[0m\u001b[0;34m,\u001b[0m \u001b[0;34m'latin1'\u001b[0m\u001b[0;34m)\u001b[0m\u001b[0;34m\u001b[0m\u001b[0;34m\u001b[0m\u001b[0m\n\u001b[1;32m    963\u001b[0m             \u001b[0mfh\u001b[0m \u001b[0;34m=\u001b[0m \u001b[0miter\u001b[0m\u001b[0;34m(\u001b[0m\u001b[0mfh\u001b[0m\u001b[0;34m)\u001b[0m\u001b[0;34m\u001b[0m\u001b[0;34m\u001b[0m\u001b[0m\n",
            "\u001b[0;32m/usr/local/lib/python3.7/dist-packages/numpy/lib/_datasource.py\u001b[0m in \u001b[0;36mopen\u001b[0;34m(path, mode, destpath, encoding, newline)\u001b[0m\n\u001b[1;32m    193\u001b[0m \u001b[0;34m\u001b[0m\u001b[0m\n\u001b[1;32m    194\u001b[0m     \u001b[0mds\u001b[0m \u001b[0;34m=\u001b[0m \u001b[0mDataSource\u001b[0m\u001b[0;34m(\u001b[0m\u001b[0mdestpath\u001b[0m\u001b[0;34m)\u001b[0m\u001b[0;34m\u001b[0m\u001b[0;34m\u001b[0m\u001b[0m\n\u001b[0;32m--> 195\u001b[0;31m     \u001b[0;32mreturn\u001b[0m \u001b[0mds\u001b[0m\u001b[0;34m.\u001b[0m\u001b[0mopen\u001b[0m\u001b[0;34m(\u001b[0m\u001b[0mpath\u001b[0m\u001b[0;34m,\u001b[0m \u001b[0mmode\u001b[0m\u001b[0;34m,\u001b[0m \u001b[0mencoding\u001b[0m\u001b[0;34m=\u001b[0m\u001b[0mencoding\u001b[0m\u001b[0;34m,\u001b[0m \u001b[0mnewline\u001b[0m\u001b[0;34m=\u001b[0m\u001b[0mnewline\u001b[0m\u001b[0;34m)\u001b[0m\u001b[0;34m\u001b[0m\u001b[0;34m\u001b[0m\u001b[0m\n\u001b[0m\u001b[1;32m    196\u001b[0m \u001b[0;34m\u001b[0m\u001b[0m\n\u001b[1;32m    197\u001b[0m \u001b[0;34m\u001b[0m\u001b[0m\n",
            "\u001b[0;32m/usr/local/lib/python3.7/dist-packages/numpy/lib/_datasource.py\u001b[0m in \u001b[0;36mopen\u001b[0;34m(self, path, mode, encoding, newline)\u001b[0m\n\u001b[1;32m    533\u001b[0m                                       encoding=encoding, newline=newline)\n\u001b[1;32m    534\u001b[0m         \u001b[0;32melse\u001b[0m\u001b[0;34m:\u001b[0m\u001b[0;34m\u001b[0m\u001b[0;34m\u001b[0m\u001b[0m\n\u001b[0;32m--> 535\u001b[0;31m             \u001b[0;32mraise\u001b[0m \u001b[0mIOError\u001b[0m\u001b[0;34m(\u001b[0m\u001b[0;34m\"%s not found.\"\u001b[0m \u001b[0;34m%\u001b[0m \u001b[0mpath\u001b[0m\u001b[0;34m)\u001b[0m\u001b[0;34m\u001b[0m\u001b[0;34m\u001b[0m\u001b[0m\n\u001b[0m\u001b[1;32m    536\u001b[0m \u001b[0;34m\u001b[0m\u001b[0m\n\u001b[1;32m    537\u001b[0m \u001b[0;34m\u001b[0m\u001b[0m\n",
            "\u001b[0;31mOSError\u001b[0m: datasets/inflammation-data/inflammation-01.csv not found."
          ]
        }
      ]
    },
    {
      "cell_type": "markdown",
      "metadata": {
        "id": "RsXqRq97UXeB"
      },
      "source": [
        "```\n",
        "?np.loadtxt```"
      ]
    },
    {
      "cell_type": "markdown",
      "metadata": {
        "id": "wFnFIyahUXeD"
      },
      "source": [
        "Assign the array to a variable called 'data' and print it."
      ]
    },
    {
      "cell_type": "code",
      "metadata": {
        "id": "IZWAwW7mUXeD"
      },
      "source": [],
      "execution_count": null,
      "outputs": []
    },
    {
      "cell_type": "markdown",
      "metadata": {
        "id": "xCBJ8n01UXeE"
      },
      "source": [
        "What type of things does data refer to?\n",
        "```\n",
        "print(type(data))\n",
        "```"
      ]
    },
    {
      "cell_type": "markdown",
      "metadata": {
        "id": "6k_fnRXeUXeF"
      },
      "source": [
        "The output tells us that data currently refers to an N-dimensional array, the functionality for which is provided by the NumPy library. These data correspond to arthritis patients’ inflammation. The rows are the individual patients, and the columns are their daily inflammation measurements."
      ]
    },
    {
      "cell_type": "markdown",
      "metadata": {
        "id": "lcPZhGqhUXeF"
      },
      "source": [
        "What type of data contained in the numpy array?"
      ]
    },
    {
      "cell_type": "markdown",
      "metadata": {
        "id": "UgmEIYSxUXeG"
      },
      "source": [
        "```\n",
        "data.dtype\n",
        "```"
      ]
    },
    {
      "cell_type": "markdown",
      "metadata": {
        "id": "6BD2hHVxUXeG"
      },
      "source": [
        "What is the size of the array? How many rows and columns?"
      ]
    },
    {
      "cell_type": "markdown",
      "metadata": {
        "id": "pgXCWvIwUXeH"
      },
      "source": [
        "```\n",
        "data.shape\n",
        "```"
      ]
    },
    {
      "cell_type": "markdown",
      "metadata": {
        "id": "sj20kkDdUXeH"
      },
      "source": [
        "What is the first value in the array? the value at row 0 and column 0?"
      ]
    },
    {
      "cell_type": "markdown",
      "metadata": {
        "id": "lH2Pz6GUUXeH"
      },
      "source": [
        "```\n",
        "print(\"The first value in the array: \", data[0,0])\n",
        "```"
      ]
    },
    {
      "cell_type": "markdown",
      "metadata": {
        "id": "wT4qohx1UXeI"
      },
      "source": [
        "What is the middle value in the array? value at row 30 and column 20."
      ]
    },
    {
      "cell_type": "markdown",
      "metadata": {
        "id": "MsM82ZPHUXeI"
      },
      "source": [
        "```\n",
        "print('The middle value in the array: ', data[30, 20])\n",
        "```"
      ]
    },
    {
      "cell_type": "markdown",
      "metadata": {
        "id": "X_1eYsGRUXeJ"
      },
      "source": [
        "$m\\times n$ array's index starts from 0, 0 to m, n.\n",
        "![](https://i.imgur.com/2zwzXCw.png)"
      ]
    },
    {
      "cell_type": "markdown",
      "metadata": {
        "id": "pWjb80ktUXeJ"
      },
      "source": [
        "How to select part of the data? For example, the inflammation of first 10 days for patients 3-6?"
      ]
    },
    {
      "cell_type": "markdown",
      "metadata": {
        "id": "ERWhCql_UXeJ"
      },
      "source": [
        "```\n",
        "data[3:6, 0:10]\n",
        "```"
      ]
    },
    {
      "cell_type": "markdown",
      "metadata": {
        "id": "0qFcE_p4UXeK"
      },
      "source": [
        "## Chenage to exercise\n",
        "**How to select** rows 0 through 6 and columns 39 through to the end of the array?"
      ]
    },
    {
      "cell_type": "markdown",
      "metadata": {
        "id": "3NNja4oWUXeL"
      },
      "source": [
        "```\n",
        "data[:3, 36:]\n",
        "```"
      ]
    },
    {
      "cell_type": "markdown",
      "metadata": {
        "id": "Ou1PM7cRUXeL"
      },
      "source": [
        "Arrays also know how to perform common mathematical operations on their values. The simplest operations with data are arithmetic: addition, subtraction, multiplication, and division. When you do such operations on arrays, the operation is done element-by-element."
      ]
    },
    {
      "cell_type": "markdown",
      "metadata": {
        "id": "k0PhSvt1UXeL"
      },
      "source": [
        "How to double the inflammation values for all the patients and for all days?"
      ]
    },
    {
      "cell_type": "markdown",
      "metadata": {
        "id": "F6JfYbS1UXeL"
      },
      "source": [
        "```\n",
        "doubledata = data * 2\n",
        "print(doubledata[:3, 36:])\n",
        "print(\"--\"*10)\n",
        "print(data[:3, 36:])\n",
        "```"
      ]
    },
    {
      "cell_type": "markdown",
      "metadata": {
        "id": "0ALaIcnaUXeM"
      },
      "source": [
        "```\n",
        "tripledata = doubledata + data\n",
        "print(tripledata[:3, 36:])\n",
        "```"
      ]
    },
    {
      "cell_type": "code",
      "metadata": {
        "collapsed": true,
        "jupyter": {
          "outputs_hidden": true
        },
        "id": "loy2b0arUXeM"
      },
      "source": [],
      "execution_count": null,
      "outputs": []
    },
    {
      "cell_type": "markdown",
      "metadata": {
        "id": "wGdruJ86UXeM"
      },
      "source": [
        "Often, we want to do more than add, subtract, multiply, and divide array elements. NumPy knows how to do more complex operations, too. If we want to find the average inflammation for all patients on all days, for example, we can ask NumPy to compute data’s mean value."
      ]
    },
    {
      "cell_type": "markdown",
      "metadata": {
        "id": "mCAceFaeUXeM"
      },
      "source": [
        "```\n",
        "np.mean(data)\n",
        "```"
      ]
    },
    {
      "cell_type": "markdown",
      "metadata": {
        "id": "1Yfj03n4UXeN"
      },
      "source": [
        "When analyzing data, though, we often want to look at variations in statistical values, such as the maximum inflammation per patient or the average inflammation per day. One way to do this is to create a new temporary array of the data we want, then ask it to do the calculation."
      ]
    },
    {
      "cell_type": "markdown",
      "metadata": {
        "id": "QJpvBVyxUXeN"
      },
      "source": [
        "```\n",
        "patient1 = data[1, :]\n",
        "patient1\n",
        "```"
      ]
    },
    {
      "cell_type": "markdown",
      "metadata": {
        "id": "hBTiQVI6UXeO"
      },
      "source": [
        "```\n",
        "print('The average inflammation for patient 1 is: ', np.mean(patient1))\n",
        "```"
      ]
    },
    {
      "cell_type": "code",
      "metadata": {
        "id": "yF0S1gFWUXeO"
      },
      "source": [],
      "execution_count": null,
      "outputs": []
    },
    {
      "cell_type": "markdown",
      "metadata": {
        "id": "Nryg_bhrUXeP"
      },
      "source": [
        "What if we need the maximum inflammation for each patient over all days (as in the next diagram on the left) or the average for each day (as in the diagram on the right)? As the diagram below shows, we want to perform the operation across an axis.\n",
        "![](https://i.imgur.com/T8tMG7M.png)"
      ]
    },
    {
      "cell_type": "markdown",
      "metadata": {
        "id": "WQqiyuAeUXeU"
      },
      "source": [
        "How to calculate the daily average inflammation for all the patients?"
      ]
    },
    {
      "cell_type": "markdown",
      "metadata": {
        "id": "jXsOSnIrUXeU"
      },
      "source": [
        "```\n",
        "daily_averages = np.mean(data, axis = 0)\n",
        "daily_averages\n",
        "```"
      ]
    },
    {
      "cell_type": "markdown",
      "metadata": {
        "id": "HmildF8tUXeV"
      },
      "source": [
        "```\n",
        "daily_averages.shape\n",
        "```"
      ]
    },
    {
      "cell_type": "code",
      "metadata": {
        "id": "y78fH_UqUXeV"
      },
      "source": [],
      "execution_count": null,
      "outputs": []
    },
    {
      "cell_type": "markdown",
      "metadata": {
        "id": "619KniFMUXeW"
      },
      "source": [
        "How to calculate the average inflammations for all the patients?"
      ]
    },
    {
      "cell_type": "markdown",
      "metadata": {
        "id": "yHFRcInGUXeW"
      },
      "source": [
        "```\n",
        "patient_averages = np.mean(data, axis = 1)\n",
        "patient_averages\n",
        "```"
      ]
    },
    {
      "cell_type": "markdown",
      "metadata": {
        "id": "GlKwk5fAUXeX"
      },
      "source": [
        "```\n",
        "patient_averages.shape\n",
        "```"
      ]
    },
    {
      "cell_type": "markdown",
      "metadata": {
        "id": "tRWtCtKoUXeY"
      },
      "source": [
        "The mathematician Richard Hamming once said, “The purpose of computing is insight, not numbers,” and the best way to develop insight is often to visualize data.\n",
        "\n",
        "We will have an entire lecture for visualization. But we can explore a few features of Python’s matplotlib library here."
      ]
    },
    {
      "cell_type": "markdown",
      "metadata": {
        "id": "KY7KXtqMUXeZ"
      },
      "source": [
        "How to visualize the inflammation values in a whole picture?"
      ]
    },
    {
      "cell_type": "markdown",
      "metadata": {
        "id": "eJStufrGUXeZ"
      },
      "source": [
        "```\n",
        "plt.imshow(data)\n",
        "```"
      ]
    },
    {
      "cell_type": "markdown",
      "metadata": {
        "id": "s5KPV61DUXea"
      },
      "source": [
        "Blue pixels in this heat map represent low values, while yellow pixels represent high values. As we can see, inflammation rises and falls over a 40-day period."
      ]
    },
    {
      "cell_type": "markdown",
      "metadata": {
        "id": "2cPH8hhmUXea"
      },
      "source": [
        "How do the average inflammation values look like across days?"
      ]
    },
    {
      "cell_type": "markdown",
      "metadata": {
        "id": "6pe-LlenUXea"
      },
      "source": [
        "```\n",
        "plt.plot(daily_averages)\n",
        "```"
      ]
    },
    {
      "cell_type": "markdown",
      "metadata": {
        "id": "De8gVMaEUXeb"
      },
      "source": [
        "How do the max inflammation values look like across all days?"
      ]
    },
    {
      "cell_type": "markdown",
      "metadata": {
        "id": "AHaJfOZQUXeb"
      },
      "source": [
        "```\n",
        "plt.plot(np.max(data, axis = 0))\n",
        "```"
      ]
    },
    {
      "cell_type": "markdown",
      "metadata": {
        "id": "74Y-54oHUXec"
      },
      "source": [
        "How do the min inflammation values look like across all days?"
      ]
    },
    {
      "cell_type": "code",
      "metadata": {
        "id": "NeTUdTlxUXec"
      },
      "source": [
        "arr = [4,5,6,7], [3,9,2,6]\n",
        "\n"
      ],
      "execution_count": null,
      "outputs": []
    },
    {
      "cell_type": "code",
      "metadata": {
        "colab": {
          "base_uri": "https://localhost:8080/",
          "height": 164
        },
        "id": "4dlncGOUL7jn",
        "outputId": "48b92784-2520-40ab-a972-bafd48f5c03c"
      },
      "source": [],
      "execution_count": null,
      "outputs": [
        {
          "output_type": "error",
          "ename": "NameError",
          "evalue": "ignored",
          "traceback": [
            "\u001b[0;31m---------------------------------------------------------------------------\u001b[0m",
            "\u001b[0;31mNameError\u001b[0m                                 Traceback (most recent call last)",
            "\u001b[0;32m<ipython-input-6-e3eb363b4781>\u001b[0m in \u001b[0;36m<module>\u001b[0;34m()\u001b[0m\n\u001b[0;32m----> 1\u001b[0;31m \u001b[0mprint\u001b[0m\u001b[0;34m(\u001b[0m\u001b[0marr\u001b[0m\u001b[0;34m)\u001b[0m\u001b[0;34m\u001b[0m\u001b[0;34m\u001b[0m\u001b[0m\n\u001b[0m",
            "\u001b[0;31mNameError\u001b[0m: name 'arr' is not defined"
          ]
        }
      ]
    },
    {
      "cell_type": "markdown",
      "metadata": {
        "id": "Df2mMJMTUXed"
      },
      "source": [
        "```\n",
        "plt.plot(np.min(data, axis = 0))\n",
        "```"
      ]
    },
    {
      "cell_type": "markdown",
      "metadata": {
        "id": "y7TlO73AUXed"
      },
      "source": [
        "How to put all the figures side by side?"
      ]
    },
    {
      "cell_type": "markdown",
      "metadata": {
        "id": "iBfgfVy2UXed"
      },
      "source": [
        "```\n",
        "fig = plt.figure(figsize=(10, 3))\n",
        "axes1 = fig.add_subplot(131)\n",
        "axes2 = fig.add_subplot(132)\n",
        "axes3 = fig.add_subplot(133)\n",
        "\n",
        "axes1.plot(np.mean(data, axis = 0))\n",
        "axes1.set_ylabel(\"Average\")\n",
        "axes2.plot(np.max(data, axis = 0))\n",
        "axes2.set_ylabel(\"Max\")\n",
        "axes3.plot(np.min(data, axis = 0))\n",
        "axes3.set_ylabel(\"Min\")\n",
        "# axes2.set_xlim(-1, 50)\n",
        "\n",
        "plt.tight_layout()\n",
        "```"
      ]
    },
    {
      "cell_type": "code",
      "metadata": {
        "colab": {
          "base_uri": "https://localhost:8080/",
          "height": 430
        },
        "id": "oXHi8H37euoJ",
        "outputId": "7d68ccc0-7f1b-456c-f75f-d4d503e6b208"
      },
      "source": [
        "fig = plt.figure(figsize=(10, 3))\n",
        "axes1 = fig.add_subplot(1,3,1)\n",
        "axes2 = fig.add_subplot(1,3,2)\n",
        "axes3 = fig.add_subplot(1,3,3)\n",
        "\n",
        "axes1.plot(np.mean(data, axis = 0))\n",
        "axes1.set_ylabel(\"Average\")\n",
        "axes2.plot(np.max(data, axis = 0))\n",
        "axes2.set_ylabel(\"Max\")\n",
        "axes3.plot(np.min(data, axis = 0))\n",
        "axes3.set_ylabel(\"Min\")\n",
        "# axes2.set_xlim(-1, 50)\n",
        "\n",
        "plt.tight_layout()"
      ],
      "execution_count": null,
      "outputs": [
        {
          "output_type": "error",
          "ename": "NameError",
          "evalue": "ignored",
          "traceback": [
            "\u001b[0;31m---------------------------------------------------------------------------\u001b[0m",
            "\u001b[0;31mNameError\u001b[0m                                 Traceback (most recent call last)",
            "\u001b[0;32m<ipython-input-3-5794704ac1a9>\u001b[0m in \u001b[0;36m<module>\u001b[0;34m()\u001b[0m\n\u001b[1;32m      4\u001b[0m \u001b[0maxes3\u001b[0m \u001b[0;34m=\u001b[0m \u001b[0mfig\u001b[0m\u001b[0;34m.\u001b[0m\u001b[0madd_subplot\u001b[0m\u001b[0;34m(\u001b[0m\u001b[0;36m133\u001b[0m\u001b[0;34m)\u001b[0m\u001b[0;34m\u001b[0m\u001b[0;34m\u001b[0m\u001b[0m\n\u001b[1;32m      5\u001b[0m \u001b[0;34m\u001b[0m\u001b[0m\n\u001b[0;32m----> 6\u001b[0;31m \u001b[0maxes1\u001b[0m\u001b[0;34m.\u001b[0m\u001b[0mplot\u001b[0m\u001b[0;34m(\u001b[0m\u001b[0mnp\u001b[0m\u001b[0;34m.\u001b[0m\u001b[0mmean\u001b[0m\u001b[0;34m(\u001b[0m\u001b[0mdata\u001b[0m\u001b[0;34m,\u001b[0m \u001b[0maxis\u001b[0m \u001b[0;34m=\u001b[0m \u001b[0;36m0\u001b[0m\u001b[0;34m)\u001b[0m\u001b[0;34m)\u001b[0m\u001b[0;34m\u001b[0m\u001b[0;34m\u001b[0m\u001b[0m\n\u001b[0m\u001b[1;32m      7\u001b[0m \u001b[0maxes1\u001b[0m\u001b[0;34m.\u001b[0m\u001b[0mset_ylabel\u001b[0m\u001b[0;34m(\u001b[0m\u001b[0;34m\"Average\"\u001b[0m\u001b[0;34m)\u001b[0m\u001b[0;34m\u001b[0m\u001b[0;34m\u001b[0m\u001b[0m\n\u001b[1;32m      8\u001b[0m \u001b[0maxes2\u001b[0m\u001b[0;34m.\u001b[0m\u001b[0mplot\u001b[0m\u001b[0;34m(\u001b[0m\u001b[0mnp\u001b[0m\u001b[0;34m.\u001b[0m\u001b[0mmax\u001b[0m\u001b[0;34m(\u001b[0m\u001b[0mdata\u001b[0m\u001b[0;34m,\u001b[0m \u001b[0maxis\u001b[0m \u001b[0;34m=\u001b[0m \u001b[0;36m0\u001b[0m\u001b[0;34m)\u001b[0m\u001b[0;34m)\u001b[0m\u001b[0;34m\u001b[0m\u001b[0;34m\u001b[0m\u001b[0m\n",
            "\u001b[0;31mNameError\u001b[0m: name 'data' is not defined"
          ]
        },
        {
          "output_type": "display_data",
          "data": {
            "image/png": "[encoded data removed]",
            "text/plain": [
              "<Figure size 720x216 with 3 Axes>"
            ]
          },
          "metadata": {
            "tags": [],
            "needs_background": "light"
          }
        }
      ]
    },
    {
      "cell_type": "markdown",
      "metadata": {
        "id": "EhYFs-WkUXef"
      },
      "source": [
        "This patient data is longitudinal in the sense that each row represents a series of observations relating to one individual. This means that the change in inflammation over time is a meaningful concept.\n",
        "\n",
        "The numpy.diff() function takes a NumPy array and returns the differences between two successive values along a specified axis."
      ]
    },
    {
      "cell_type": "markdown",
      "metadata": {
        "id": "F8bxxRf4UXef"
      },
      "source": [
        "What is the largest change in inflammation for each patient?"
      ]
    },
    {
      "cell_type": "markdown",
      "metadata": {
        "id": "R2a8WWP8UXef"
      },
      "source": [
        "```\n",
        "np.max(np.diff(data, axis = 1), axis = 1)\n",
        "```"
      ]
    },
    {
      "cell_type": "code",
      "metadata": {
        "id": "7V1R_0Y2UXef"
      },
      "source": [],
      "execution_count": null,
      "outputs": []
    },
    {
      "cell_type": "markdown",
      "metadata": {
        "id": "EWsZ-29lUXef"
      },
      "source": [
        "```\n",
        "plt.scatter(np.arange(0, 60), np.max(np.diff(data, axis = 1), axis = 1))\n",
        "plt.grid()\n",
        "```"
      ]
    },
    {
      "cell_type": "code",
      "metadata": {
        "collapsed": true,
        "jupyter": {
          "outputs_hidden": true
        },
        "id": "QiB1gQnGUXef"
      },
      "source": [],
      "execution_count": null,
      "outputs": []
    },
    {
      "cell_type": "markdown",
      "metadata": {
        "id": "MWkbWQX3UXeg"
      },
      "source": [
        "## Exercise: load inflammation-01.csv and plot patient average, maximum, minimum side-by-side with different colors: red average, green maximum, and blue minimum."
      ]
    },
    {
      "cell_type": "code",
      "metadata": {
        "id": "CSPx4aWOUXeg"
      },
      "source": [],
      "execution_count": null,
      "outputs": []
    },
    {
      "cell_type": "markdown",
      "metadata": {
        "id": "iGXeapsiUXeg"
      },
      "source": [
        "```\n",
        "plt.figure(figsize = (12, 9))\n",
        "plt.scatter(np.arange(0, 60), np.max(np.diff(data, axis = 1), axis = 1), color = 'r')\n",
        "plt.title('Max Inflammation Change for Patient')\n",
        "plt.xlabel(\"patient Index\")\n",
        "plt.ylabel(\"Max Inflammatin Change\")\n",
        "plt.xticks(np.arange(0, 60, 2))\n",
        "```"
      ]
    },
    {
      "cell_type": "markdown",
      "metadata": {
        "id": "9ACgkhK3UXeg"
      },
      "source": [
        "## Data Science Summarization in One Picture\n",
        "\n",
        "![](https://i.imgur.com/Xsgx4Sc.png)"
      ]
    },
    {
      "cell_type": "markdown",
      "metadata": {
        "id": "UTRKVZZbUXeg"
      },
      "source": [
        "### Creating ndarrays\n",
        "The easiest way to create an array is to use the array function. This accepts any\n",
        "sequence-like object (including other arrays) and produces a new NumPy array containing\n",
        "the passed data."
      ]
    },
    {
      "cell_type": "markdown",
      "metadata": {
        "id": "UpigjbqqUXeg"
      },
      "source": [
        "```\n",
        "data1 = [6, 7.5, 8, 0, 1]\n",
        "arr1 = np.array(data1)\n",
        "arr1\n",
        "```"
      ]
    },
    {
      "cell_type": "code",
      "metadata": {
        "id": "9vuKcZ4wUXeh"
      },
      "source": [],
      "execution_count": null,
      "outputs": []
    },
    {
      "cell_type": "markdown",
      "metadata": {
        "id": "lt6bOMaNUXeh"
      },
      "source": [
        "```\n",
        "data2 = [[1, 2, 3, 4], [5, 6, 7, 8]]\n",
        "arr2 = np.array(data2)\n",
        "arr2\n",
        "```"
      ]
    },
    {
      "cell_type": "code",
      "metadata": {
        "id": "K6QVYddgUXeh"
      },
      "source": [],
      "execution_count": null,
      "outputs": []
    },
    {
      "cell_type": "markdown",
      "metadata": {
        "id": "zMoCMFalUXeh"
      },
      "source": [
        "In addition to np.array, there are a number of other functions for creating new\n",
        "arrays. As examples, zeros and ones create arrays of 0s or 1s, respectively, with a\n",
        "given length or shape. empty creates an array without initializing its values to any particular\n",
        "value. To create a higher dimensional array with these methods, pass a tuple\n",
        "for the shape."
      ]
    },
    {
      "cell_type": "markdown",
      "metadata": {
        "id": "FXwk7J61UXeh"
      },
      "source": [
        "```\n",
        "np.zeros(10)\n",
        "np.zeros((3, 6))\n",
        "np.empty((2, 3, 2))\n",
        "```"
      ]
    },
    {
      "cell_type": "code",
      "metadata": {
        "id": "YHoAK0rpUXei"
      },
      "source": [],
      "execution_count": null,
      "outputs": []
    },
    {
      "cell_type": "markdown",
      "metadata": {
        "id": "RO8pNJrUUXei"
      },
      "source": [
        "```\n",
        "np.arange(15)\n",
        "```"
      ]
    },
    {
      "cell_type": "code",
      "metadata": {
        "id": "gbugFOutUXei"
      },
      "source": [],
      "execution_count": null,
      "outputs": []
    },
    {
      "cell_type": "markdown",
      "metadata": {
        "id": "P6MtyS3_UXei"
      },
      "source": [
        "### Slicing is a View\n",
        "An important first distinction\n",
        "from Python’s built-in lists is that array slices are views on the original array.\n",
        "This means that the data is not copied, and any modifications to the view will be\n",
        "reflected in the source array."
      ]
    },
    {
      "cell_type": "markdown",
      "metadata": {
        "id": "CgRKjYMYUXei"
      },
      "source": [
        "```\n",
        "arr = np.arange(10)\n",
        "```"
      ]
    },
    {
      "cell_type": "code",
      "metadata": {
        "id": "tb1cDOjmUXei"
      },
      "source": [],
      "execution_count": null,
      "outputs": []
    },
    {
      "cell_type": "markdown",
      "metadata": {
        "id": "NxwpapZyUXej"
      },
      "source": [
        "```\n",
        "arr_slice = arr[5:8]\n",
        "arr_slice\n",
        "```"
      ]
    },
    {
      "cell_type": "code",
      "metadata": {
        "id": "3bgQrUOKUXej"
      },
      "source": [],
      "execution_count": null,
      "outputs": []
    },
    {
      "cell_type": "markdown",
      "metadata": {
        "id": "-lxLM64-UXej"
      },
      "source": [
        "```\n",
        "arr_slice[1] = 12345\n",
        "arr\n",
        "```"
      ]
    },
    {
      "cell_type": "code",
      "metadata": {
        "id": "NwWBLQHNUXej"
      },
      "source": [],
      "execution_count": null,
      "outputs": []
    },
    {
      "cell_type": "markdown",
      "metadata": {
        "id": "Vi9egYLwUXej"
      },
      "source": [
        "```\n",
        "arr_slice[:] = 64\n",
        "arr\n",
        "```"
      ]
    },
    {
      "cell_type": "code",
      "metadata": {
        "id": "WwdaZ48RUXej"
      },
      "source": [],
      "execution_count": null,
      "outputs": []
    },
    {
      "cell_type": "markdown",
      "metadata": {
        "id": "I4C5xp13UXek"
      },
      "source": [
        "## Indexing with slices\n",
        "![](https://i.imgur.com/7yCDlR7.png)"
      ]
    },
    {
      "cell_type": "markdown",
      "metadata": {
        "id": "oAYctlqIUXek"
      },
      "source": [
        "```\n",
        "arr = np.arange(10)\n",
        "arr[1:6]\n",
        "```"
      ]
    },
    {
      "cell_type": "code",
      "metadata": {
        "id": "SKlE9j_OUXek",
        "colab": {
          "base_uri": "https://localhost:8080/"
        },
        "outputId": "d5f8942a-f651-4d3d-d3c7-981fad0ca031"
      },
      "source": [
        "arr = np.arange(10)\n",
        "arr[:6]"
      ],
      "execution_count": null,
      "outputs": [
        {
          "output_type": "execute_result",
          "data": {
            "text/plain": [
              "array([0, 1, 2, 3, 4, 5])"
            ]
          },
          "metadata": {
            "tags": []
          },
          "execution_count": 18
        }
      ]
    },
    {
      "cell_type": "markdown",
      "metadata": {
        "id": "q1_4Qt5rUXek"
      },
      "source": [
        "```\n",
        "arr2d = np.array([[1, 2, 3], [4, 5, 6], [7, 8, 9]])\n",
        "arr2d[:2]\n",
        "```"
      ]
    },
    {
      "cell_type": "code",
      "metadata": {
        "id": "jogcwyGvUXek",
        "colab": {
          "base_uri": "https://localhost:8080/"
        },
        "outputId": "a9da2b7c-3f3a-4688-f554-8a524e875810"
      },
      "source": [
        "arr2d = np.array([[1, 2, 3], [4, 5, 6], [7, 8, 9]])\n",
        "arr2d[:1]"
      ],
      "execution_count": null,
      "outputs": [
        {
          "output_type": "execute_result",
          "data": {
            "text/plain": [
              "array([[1, 2, 3]])"
            ]
          },
          "metadata": {
            "tags": []
          },
          "execution_count": 23
        }
      ]
    },
    {
      "cell_type": "markdown",
      "metadata": {
        "id": "hSZukMEWUXel"
      },
      "source": [
        "```\n",
        "arr2d[:2, 1:]\n",
        "```"
      ]
    },
    {
      "cell_type": "code",
      "metadata": {
        "id": "ua5kAXwCUXel"
      },
      "source": [],
      "execution_count": null,
      "outputs": []
    },
    {
      "cell_type": "markdown",
      "metadata": {
        "id": "ghcYTKwjUXel"
      },
      "source": [
        "```\n",
        "arr2d[1, :2]\n",
        "```"
      ]
    },
    {
      "cell_type": "code",
      "metadata": {
        "id": "EUfwGeudUXel"
      },
      "source": [],
      "execution_count": null,
      "outputs": []
    },
    {
      "cell_type": "markdown",
      "metadata": {
        "id": "YAC_wpntUXel"
      },
      "source": [
        "```\n",
        "arr2d[:2, 2]\n",
        "```"
      ]
    },
    {
      "cell_type": "code",
      "metadata": {
        "id": "Km-tWcyEUXel"
      },
      "source": [],
      "execution_count": null,
      "outputs": []
    },
    {
      "cell_type": "markdown",
      "metadata": {
        "id": "qp15dVbJUXem"
      },
      "source": [
        "```\n",
        "arr2d[:, :1]\n",
        "```"
      ]
    },
    {
      "cell_type": "code",
      "metadata": {
        "id": "L4eRRpZsUXem"
      },
      "source": [],
      "execution_count": null,
      "outputs": []
    },
    {
      "cell_type": "markdown",
      "metadata": {
        "id": "ht7lUzieUXem"
      },
      "source": [
        "```\n",
        "arr2d[:2, 1:]\n",
        "arr2d\n",
        "```"
      ]
    },
    {
      "cell_type": "code",
      "metadata": {
        "id": "5hzzOu-rUXem"
      },
      "source": [],
      "execution_count": null,
      "outputs": []
    },
    {
      "cell_type": "markdown",
      "metadata": {
        "id": "L2ujyOcfUXem"
      },
      "source": [
        "### Boolean Indexing\n",
        "How to get the patients whose average inflammation is great than 7?"
      ]
    },
    {
      "cell_type": "markdown",
      "metadata": {
        "id": "V9yPf8FXUXem"
      },
      "source": [
        "```\n",
        "patient_averages > 7\n",
        "```"
      ]
    },
    {
      "cell_type": "code",
      "metadata": {
        "id": "TQ7GuoeVUXen"
      },
      "source": [],
      "execution_count": null,
      "outputs": []
    },
    {
      "cell_type": "markdown",
      "metadata": {
        "id": "8053DY_gUXen"
      },
      "source": [
        "```\n",
        "data[patient_averages > 7]\n",
        "```"
      ]
    },
    {
      "cell_type": "code",
      "metadata": {
        "id": "OQivAnrKUXen"
      },
      "source": [],
      "execution_count": null,
      "outputs": []
    },
    {
      "cell_type": "markdown",
      "metadata": {
        "id": "40N3U7jpUXen"
      },
      "source": [
        "### Fancy Indexing\n",
        "Fancy indexing is a term adopted by NumPy to describe indexing using integer arrays.\n",
        "\n",
        "How to select the patients 6, 4, 12, 7 in this order?"
      ]
    },
    {
      "cell_type": "markdown",
      "metadata": {
        "id": "YymaPeR2UXen"
      },
      "source": [
        "```\n",
        "data[[6, 4, 12, 7]]\n",
        "```"
      ]
    },
    {
      "cell_type": "code",
      "metadata": {
        "id": "iiVEK7KwUXen"
      },
      "source": [],
      "execution_count": null,
      "outputs": []
    },
    {
      "cell_type": "markdown",
      "metadata": {
        "id": "STbOA2unUXeo"
      },
      "source": [
        "```\n",
        "data[6]\n",
        "```"
      ]
    },
    {
      "cell_type": "code",
      "metadata": {
        "id": "GidSygoeUXeo"
      },
      "source": [],
      "execution_count": null,
      "outputs": []
    },
    {
      "cell_type": "markdown",
      "metadata": {
        "id": "9YwpS55uUXeo"
      },
      "source": [
        "```\n",
        "data[4]\n",
        "```"
      ]
    },
    {
      "cell_type": "code",
      "metadata": {
        "id": "9OkNHwc3UXeo"
      },
      "source": [],
      "execution_count": null,
      "outputs": []
    },
    {
      "cell_type": "markdown",
      "metadata": {
        "id": "uUDNWw8dUXeo"
      },
      "source": [
        "```\n",
        "data[12]\n",
        "```"
      ]
    },
    {
      "cell_type": "code",
      "metadata": {
        "id": "C5D7_SLJUXeo"
      },
      "source": [],
      "execution_count": null,
      "outputs": []
    },
    {
      "cell_type": "markdown",
      "metadata": {
        "id": "QiMKux1EUXeo"
      },
      "source": [
        "```\n",
        "data[7]\n",
        "```"
      ]
    },
    {
      "cell_type": "code",
      "metadata": {
        "id": "eNCXYTt1UXep"
      },
      "source": [],
      "execution_count": null,
      "outputs": []
    },
    {
      "cell_type": "markdown",
      "metadata": {
        "id": "sCk53YBDUXep"
      },
      "source": [
        "## Universal Functions: Fast Element-Wise Array Functions\n",
        "A universal function, or ufunc, is a function that performs element-wise operations\n",
        "on data in ndarrays. You can think of them as fast vectorized wrappers for simple\n",
        "functions that take one or more scalar values and produce one or more scalar results."
      ]
    },
    {
      "cell_type": "markdown",
      "metadata": {
        "id": "w-M0ELUeUXep"
      },
      "source": [
        "```\n",
        "np.sqrt(data)\n",
        "```"
      ]
    },
    {
      "cell_type": "code",
      "metadata": {
        "id": "MOlhouFdUXep"
      },
      "source": [],
      "execution_count": null,
      "outputs": []
    },
    {
      "cell_type": "markdown",
      "metadata": {
        "id": "YLePIA76UXeq"
      },
      "source": [
        "## Array-Oriented Programming with Arrays\n",
        "Using NumPy arrays enables you to express many kinds of data processing tasks as\n",
        "concise array expressions that might otherwise require writing loops. This practice of\n",
        "replacing explicit loops with array expressions is commonly referred to as vectorization.\n",
        "In general, vectorized array operations will often be one or two (or more) orders\n",
        "of magnitude faster than their pure Python equivalents, with the biggest impact in\n",
        "any kind of numerical computations.\n",
        "\n",
        "As a simple example, suppose we wished to evaluate the function $d= \\sqrt{x^2 + y^2}$\n",
        "across a regular grid of values. The np.meshgrid function takes two 1D arrays and\n",
        "produces two 2D matrices corresponding to all pairs of $(x, y)$ in the two arrays:"
      ]
    },
    {
      "cell_type": "markdown",
      "metadata": {
        "id": "A_-fsMfvUXeq"
      },
      "source": [
        "```\n",
        "points = np.arange(-5, 5, 0.01) # 1000 equally spaced points\n",
        "xs, ys = np.meshgrid(points, points)\n",
        "xs\n",
        "```"
      ]
    },
    {
      "cell_type": "code",
      "metadata": {
        "id": "sUZX2g8LUXeq"
      },
      "source": [],
      "execution_count": null,
      "outputs": []
    },
    {
      "cell_type": "markdown",
      "metadata": {
        "id": "CpWozeDdUXeq"
      },
      "source": [
        "```\n",
        "np.meshgrid?\n",
        "```"
      ]
    },
    {
      "cell_type": "code",
      "metadata": {
        "collapsed": true,
        "jupyter": {
          "outputs_hidden": true
        },
        "id": "Yj_fR96ZUXer"
      },
      "source": [],
      "execution_count": null,
      "outputs": []
    },
    {
      "cell_type": "markdown",
      "metadata": {
        "id": "mtRCD4ieUXer"
      },
      "source": [
        "```\n",
        "z = np.sqrt(xs ** 2 + ys ** 2)\n",
        "z\n",
        "```"
      ]
    },
    {
      "cell_type": "code",
      "metadata": {
        "id": "E4PEvqh4UXer"
      },
      "source": [],
      "execution_count": null,
      "outputs": []
    },
    {
      "cell_type": "markdown",
      "metadata": {
        "id": "UF6zEuCsUXer"
      },
      "source": [
        "```\n",
        "plt.imshow(z); plt.colorbar()\n",
        "plt.title(\"Image plot of $\\sqrt{x^2 + y^2}$ for a grid of values\")\n",
        "```"
      ]
    },
    {
      "cell_type": "code",
      "metadata": {
        "id": "wzV0u6B_UXes"
      },
      "source": [],
      "execution_count": null,
      "outputs": []
    },
    {
      "cell_type": "markdown",
      "metadata": {
        "id": "Pd_rE0XfUXes"
      },
      "source": [
        "### Expressing Conditional Logic as Array Operations\n",
        "How to replace all the inflammation values greater than 10 to 10?"
      ]
    },
    {
      "cell_type": "markdown",
      "metadata": {
        "id": "KnRGHeD3UXes"
      },
      "source": [
        "```\n",
        "data[0]\n",
        "```"
      ]
    },
    {
      "cell_type": "code",
      "metadata": {
        "id": "naYUZwmKUXes"
      },
      "source": [],
      "execution_count": null,
      "outputs": []
    },
    {
      "cell_type": "markdown",
      "metadata": {
        "id": "3fZNqauJUXet"
      },
      "source": [
        "```\n",
        "smoothed_data = np.where(data > 10, 10, data)\n",
        "```"
      ]
    },
    {
      "cell_type": "code",
      "metadata": {
        "id": "E2LT15-cUXet"
      },
      "source": [],
      "execution_count": null,
      "outputs": []
    },
    {
      "cell_type": "markdown",
      "metadata": {
        "id": "DTjQZPqzUXet"
      },
      "source": [
        "```\n",
        "smoothed_data[0]\n",
        "```"
      ]
    },
    {
      "cell_type": "code",
      "metadata": {
        "id": "MiBaEgUHUXet"
      },
      "source": [],
      "execution_count": null,
      "outputs": []
    },
    {
      "cell_type": "markdown",
      "metadata": {
        "id": "yDBUrforUXet"
      },
      "source": [
        "### Methods for Boolean Arrays\n",
        "Boolean values are coerced to 1 (True) and 0 (False) in the preceding methods. Thus,\n",
        "sum is often used as a means of counting True values in a boolean array.\n",
        "\n",
        "How many inflammation values greater than 15 for each patient?"
      ]
    },
    {
      "cell_type": "code",
      "metadata": {
        "id": "fT566UYoUXet"
      },
      "source": [],
      "execution_count": null,
      "outputs": []
    },
    {
      "cell_type": "markdown",
      "metadata": {
        "id": "e55F6EAfUXet"
      },
      "source": [
        "```\n",
        "np.sum(data > 15, axis = 1)\n",
        "```"
      ]
    },
    {
      "cell_type": "code",
      "metadata": {
        "id": "jRjyn_EFUXeu"
      },
      "source": [],
      "execution_count": null,
      "outputs": []
    },
    {
      "cell_type": "markdown",
      "metadata": {
        "id": "muUcjSnIUXeu"
      },
      "source": [
        "### Unique and Other Set Logic\n",
        "NumPy has some basic set operations for one-dimensional ndarrays. A commonly\n",
        "used one is np.unique, which returns the sorted unique values in an array."
      ]
    },
    {
      "cell_type": "markdown",
      "metadata": {
        "id": "zHUgNmf-UXeu"
      },
      "source": [
        "```\n",
        "names = np.array(['Bob', 'Joe', 'Will', 'Bob', 'Will', 'Joe', 'Joe'])\n",
        "np.unique(names)\n",
        "```"
      ]
    },
    {
      "cell_type": "code",
      "metadata": {
        "id": "iJ2gP8JtUXeu"
      },
      "source": [],
      "execution_count": null,
      "outputs": []
    },
    {
      "cell_type": "markdown",
      "metadata": {
        "id": "XF-BG_ZEUXeu"
      },
      "source": [
        "## File Input and Output with Arrays\n",
        "np.save and np.load are the two workhorse functions for efficiently saving and loading\n",
        "array data on disk. Arrays are saved by default in an uncompressed raw binary\n",
        "format with file extension .npy."
      ]
    },
    {
      "cell_type": "markdown",
      "metadata": {
        "id": "oVAvPAEmUXeu"
      },
      "source": [
        "```\n",
        "np.save('datasets/inflamation.npy', data)\n",
        "```"
      ]
    },
    {
      "cell_type": "code",
      "metadata": {
        "collapsed": true,
        "jupyter": {
          "outputs_hidden": true
        },
        "id": "P-MALFXpUXev"
      },
      "source": [],
      "execution_count": null,
      "outputs": []
    },
    {
      "cell_type": "markdown",
      "metadata": {
        "id": "oQI5Ng4rUXev"
      },
      "source": [
        "```\n",
        "data_load = np.load('datasets/inflamation.npy')\n",
        "```"
      ]
    },
    {
      "cell_type": "code",
      "metadata": {
        "id": "yTTNqSr8UXev"
      },
      "source": [],
      "execution_count": null,
      "outputs": []
    },
    {
      "cell_type": "markdown",
      "metadata": {
        "id": "W8EIICinUXev"
      },
      "source": [
        "```\n",
        "data_load == data\n",
        "```"
      ]
    },
    {
      "cell_type": "code",
      "metadata": {
        "id": "HgaXeAh4UXev"
      },
      "source": [],
      "execution_count": null,
      "outputs": []
    },
    {
      "cell_type": "markdown",
      "metadata": {
        "id": "T3FHTVOYUXew"
      },
      "source": [
        "## Linear Algebra\n",
        "Linear algebra, like matrix multiplication, decompositions, determinants, and other\n",
        "square matrix math, is an important part of any array library. Unlike some languages\n",
        "like MATLAB, multiplying two two-dimensional arrays with * is an element-wise\n",
        "product instead of a matrix dot product. Thus, there is a function dot, both an array\n",
        "method and a function in the numpy namespace, for matrix multiplication.\n",
        "\n",
        "How similar are the patient 3 and patient 5 in terms of their inflammation values?"
      ]
    },
    {
      "cell_type": "markdown",
      "metadata": {
        "id": "1YFfg6mkUXew"
      },
      "source": [
        "```\n",
        "patient3 = data[3]\n",
        "patient5 = data[5]\n",
        "```"
      ]
    },
    {
      "cell_type": "code",
      "metadata": {
        "collapsed": true,
        "jupyter": {
          "outputs_hidden": true
        },
        "id": "fdrlj5v7UXew"
      },
      "source": [],
      "execution_count": null,
      "outputs": []
    },
    {
      "cell_type": "markdown",
      "metadata": {
        "id": "xr3yuRTnUXew"
      },
      "source": [
        "```\n",
        "prod35 = np.dot(patient3, patient5)\n",
        "mag_3 = np.sqrt(np.dot(patient3, patient3))\n",
        "mag_5 = np.sqrt(np.dot(patient5, patient5))\n",
        "```"
      ]
    },
    {
      "cell_type": "code",
      "metadata": {
        "collapsed": true,
        "jupyter": {
          "outputs_hidden": true
        },
        "id": "ocDJuAs2UXew"
      },
      "source": [],
      "execution_count": null,
      "outputs": []
    },
    {
      "cell_type": "markdown",
      "metadata": {
        "id": "yoGrMJn6UXew"
      },
      "source": [
        "```\n",
        "sim = prod35 / (mag_3 * mag_5)\n",
        "sim\n",
        "```"
      ]
    },
    {
      "cell_type": "code",
      "metadata": {
        "collapsed": true,
        "jupyter": {
          "outputs_hidden": true
        },
        "id": "4MFFGjsJUXex"
      },
      "source": [],
      "execution_count": null,
      "outputs": []
    }
  ]
}